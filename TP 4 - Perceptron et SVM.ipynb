{
 "cells": [
  {
   "cell_type": "markdown",
   "metadata": {},
   "source": [
    "# Bibliothèques"
   ]
  },
  {
   "cell_type": "markdown",
   "metadata": {},
   "source": [
    "##### Pour faire fonctionner les widgets, il est nécessaire d'installer le package ipywidgets via : pip install ipywidgets\n",
    "#### puis d'utiliser la commande : jupyter nbextension enable --py widgetsnbextension"
   ]
  },
  {
   "cell_type": "code",
   "execution_count": 10,
   "metadata": {
    "scrolled": true
   },
   "outputs": [
    {
     "data": {
      "text/html": [
       "<script>requirejs.config({paths: { 'plotly': ['https://cdn.plot.ly/plotly-latest.min']},});if(!window.Plotly) {{require(['plotly'],function(plotly) {window.Plotly=plotly;});}}</script>"
      ],
      "text/plain": [
       "<IPython.core.display.HTML object>"
      ]
     },
     "metadata": {},
     "output_type": "display_data"
    },
    {
     "ename": "ModuleNotFoundError",
     "evalue": "No module named 'termcolor'",
     "output_type": "error",
     "traceback": [
      "\u001b[0;31m---------------------------------------------------------------------------\u001b[0m",
      "\u001b[0;31mModuleNotFoundError\u001b[0m                       Traceback (most recent call last)",
      "\u001b[0;32m<ipython-input-10-f1cf3dabcd87>\u001b[0m in \u001b[0;36m<module>\u001b[0;34m()\u001b[0m\n\u001b[1;32m     23\u001b[0m \u001b[0;32mfrom\u001b[0m \u001b[0mIPython\u001b[0m\u001b[0;34m.\u001b[0m\u001b[0mdisplay\u001b[0m \u001b[0;32mimport\u001b[0m \u001b[0mdisplay\u001b[0m\u001b[0;34m,\u001b[0m \u001b[0mclear_output\u001b[0m\u001b[0;34m\u001b[0m\u001b[0m\n\u001b[1;32m     24\u001b[0m \u001b[0;32mimport\u001b[0m \u001b[0mcolorlover\u001b[0m \u001b[0;32mas\u001b[0m \u001b[0mcl\u001b[0m\u001b[0;34m\u001b[0m\u001b[0m\n\u001b[0;32m---> 25\u001b[0;31m \u001b[0;32mfrom\u001b[0m \u001b[0mtermcolor\u001b[0m \u001b[0;32mimport\u001b[0m \u001b[0mcolored\u001b[0m\u001b[0;34m\u001b[0m\u001b[0m\n\u001b[0m\u001b[1;32m     26\u001b[0m \u001b[0;34m\u001b[0m\u001b[0m\n\u001b[1;32m     27\u001b[0m \u001b[0;34m\u001b[0m\u001b[0m\n",
      "\u001b[0;31mModuleNotFoundError\u001b[0m: No module named 'termcolor'"
     ]
    }
   ],
   "source": [
    "%matplotlib inline\n",
    "\n",
    "## Modules de calcul\n",
    "import numpy as np\n",
    "from numpy.matlib import repmat\n",
    "import pandas as pd\n",
    "from tqdm import tqdm\n",
    "\n",
    "\n",
    "## Fichiers locaux\n",
    "from tools import *\n",
    "\n",
    "## Modules graphiques\n",
    "import matplotlib.pyplot as plt\n",
    "import seaborn\n",
    "from plotly.offline import download_plotlyjs, init_notebook_mode, plot, iplot\n",
    "init_notebook_mode(connected=True)\n",
    "import plotly.offline as py\n",
    "import plotly.graph_objs as go\n",
    "import seaborn as sns\n",
    "sns.set(color_codes=True)\n",
    "from IPython.html.widgets  import widgets, interact\n",
    "from IPython.display import display, clear_output\n",
    "import colorlover as cl\n",
    "from termcolor import colored\n",
    "\n",
    "\n"
   ]
  },
  {
   "cell_type": "markdown",
   "metadata": {},
   "source": [
    "# Fonctions et classes annexes :"
   ]
  },
  {
   "cell_type": "code",
   "execution_count": 4,
   "metadata": {
    "collapsed": true
   },
   "outputs": [],
   "source": [
    "def figure_size(width, height):\n",
    "    \"\"\" Allow to choose the size of scatter plot \"\"\"\n",
    "\n",
    "    # Get current size\n",
    "    fig_size = plt.rcParams[\"figure.figsize\"]\n",
    "\n",
    "    # Set figure width to 12 and height to 9\n",
    "    fig_size[0] = width\n",
    "    fig_size[1] = height\n",
    "    plt.rcParams[\"figure.figsize\"] = fig_size\n",
    "    \n",
    "    return "
   ]
  },
  {
   "cell_type": "code",
   "execution_count": 5,
   "metadata": {
    "collapsed": true
   },
   "outputs": [],
   "source": [
    "class Perceptron:\n",
    "    def __init__(self,max_iter = 100,eps=1e-3, projection = None):\n",
    "        self.max_iter = max_iter\n",
    "        self.eps = eps\n",
    "        self.projection = projection or (lambda x: x) #projection fonction identite par default\n",
    "\n",
    "    def fit(self, data, y, k=1, GD_mode=0, eps_mode=0, winit=[], informations=True):\n",
    "        data = self.projection(data)\n",
    "        if len(winit) == 0 :\n",
    "            self.w = np.random.random((1,data.shape[1]))\n",
    "        else :\n",
    "            self.w = winit\n",
    "        self.winit = self.w.copy()\n",
    "        self.histo_w  = np.zeros((self.max_iter,data.shape[1]))\n",
    "        self.histo_f = np.zeros((self.max_iter,1))\n",
    "        ylab=set(y.flat)\n",
    "        if len(ylab) != 2:\n",
    "            print(\"pas bon nombres de labels (%d)\" % (ylab,))\n",
    "            return\n",
    "        \n",
    "        self.labels = {-1: min(ylab), 1:max(ylab)}\n",
    "        y = 2*(y!=self.labels[-1])-1\n",
    "        \n",
    "        if informations : print(\"Itérations de l'algorithme d'apprentissage ... \\n\")\n",
    "        self.gradient_decent(data, y, k=k, GD_mode=GD_mode, max_iter=self.max_iter, \n",
    "                             eps_mode=eps_mode, informations=informations)\n",
    "            \n",
    "    def predict(self,data):\n",
    "        data = self.projection(data)\n",
    "        return np.array([self.labels[x] for x in np.sign(data.dot(self.w.T)).flat]).reshape((len(data),))\n",
    "    \n",
    "    def score(self,data,y):\n",
    "        return np.mean(self.predict(data)==y)\n",
    "    \n",
    "    def predict_w(self, data, w):\n",
    "        data = self.projection(data)\n",
    "        return np.array([self.labels[x] for x in np.sign(data.dot(w.T)).flat]).reshape((len(data),))\n",
    "    \n",
    "    def score_w(self, data, y, w):\n",
    "        return np.mean(self.predict_w(data, w)==y)\n",
    "\n",
    "    def get_eps(self, ite=1, eps_mode=0):\n",
    "        if eps_mode == 0:\n",
    "            return self.eps\n",
    "        if eps_mode >= 1:\n",
    "            return 1/((ite+1)**eps_mode)\n",
    "   \n",
    "    def loss(self,data,y):\n",
    "        return hinge(self.w,data,y)\n",
    "    \n",
    "    def loss_g(self,data,y):\n",
    "        return grad_hinge(self.w,data,y)\n",
    "    \n",
    "    def errors(self, data, y, legend=None):\n",
    "        iterations = np.arange(self.max_iter)\n",
    "        erreurs = []\n",
    "        data = self.projection(data)\n",
    "        for it in iterations:\n",
    "            erreurs.append(1 - self.score_w(data, y,self.histo_w[it]))\n",
    "        plt.plot(iterations, erreurs, label=legend)\n",
    "        plt.xlabel(\"Nombre d'itérations\")\n",
    "        plt.ylabel(\"Erreur\")\n",
    "    \n",
    "    def gradient_decent(self, data, y, k=1, GD_mode=0, max_iter=50, \n",
    "                        eps_mode=0, informations=True):\n",
    "        \n",
    "        n, d = np.shape(data)\n",
    "        idx = range(n)\n",
    "        ite = 0\n",
    "        \n",
    "        ## Batch Gradient Descent\n",
    "        if GD_mode == 0:\n",
    "            while ite<self.max_iter:\n",
    "                for j in idx:\n",
    "                    self.w = self.w - self.get_eps(ite=ite, eps_mode=eps_mode)*self.loss_g(data[j],y[j:(j+1)])\n",
    "                self.histo_w[ite] = self.w\n",
    "                self.histo_f[ite] = self.loss(data,y)\n",
    "                if ite % 20==0 and informations: print(ite,self.histo_f[ite])\n",
    "                ite+=1\n",
    "            \n",
    "        ## Stochastic descent\n",
    "        if GD_mode == 1:\n",
    "            while ite<self.max_iter:\n",
    "                idx = np.random.permutation(idx)\n",
    "                data = data[idx]\n",
    "                y = y[idx]\n",
    "                for i in range(n):\n",
    "                    j = np.random.randint(0,n)\n",
    "                    self.w = self.w - self.get_eps(ite=ite, eps_mode=eps_mode)*self.loss_g(data[j],y[j:(j+1)])\n",
    "                self.histo_w[ite] = self.w\n",
    "                self.histo_f[ite] = self.loss(data,y)\n",
    "                if ite % 20==0 and informations: print(ite,self.histo_f[ite])\n",
    "                ite+=1\n",
    "            \n",
    "        ## Mini-batch\n",
    "        if GD_mode == 2:\n",
    "            while ite<self.max_iter:\n",
    "                idx = np.random.permutation(idx)\n",
    "                data = data[idx]\n",
    "                y = y[idx]\n",
    "                pas = int(n/k)\n",
    "                for j in range(k+1):                     \n",
    "                    for v in range(pas):\n",
    "                        if j == k and n-1 > k*pas:\n",
    "                            i = np.random.randint(j*pas,n-1)\n",
    "                        elif j == k :\n",
    "                            continue\n",
    "                        else :\n",
    "                            i = np.random.randint(j*pas,(j+1)*pas)\n",
    "                        self.w = self.w - self.get_eps(ite=ite, eps_mode=eps_mode)*self.loss_g(data[i],y[i:(i+1)])\n",
    "                self.histo_w[ite] = self.w\n",
    "                self.histo_f[ite] = self.loss(data,y)\n",
    "                if ite % 20==0 and informations: print(ite,self.histo_f[ite])\n",
    "                ite+=1"
   ]
  },
  {
   "cell_type": "markdown",
   "metadata": {},
   "source": [
    "# Question 1 : Implémentation du perceptron"
   ]
  },
  {
   "cell_type": "markdown",
   "metadata": {},
   "source": [
    "## Question 1.1 :"
   ]
  },
  {
   "cell_type": "code",
   "execution_count": 6,
   "metadata": {
    "collapsed": true
   },
   "outputs": [],
   "source": [
    "def hinge(w, data, y):\n",
    "    data,y,w=data.reshape(len(y),-1),y.reshape(-1,1),w.reshape(1,-1)\n",
    "    res = -y*(np.dot(data, w.T))\n",
    "    res[res < 0] = 0\n",
    "    return res.mean()\n",
    "\n",
    "def grad_hinge(w, data, y):\n",
    "    data,y,w=data.reshape(len(y),-1),y.reshape(-1,1),w.reshape(1,-1)\n",
    "    l, col = np.shape(data)\n",
    "    grad = -y*data\n",
    "    res = -y*(np.dot(data, w.T))\n",
    "    res = repmat(res, 1, col)\n",
    "    grad = np.where(res<0, 0, grad)\n",
    "    return grad.mean(axis=0)"
   ]
  },
  {
   "cell_type": "markdown",
   "metadata": {},
   "source": [
    "#### Test des fonctions hinge, grad_hinge"
   ]
  },
  {
   "cell_type": "code",
   "execution_count": null,
   "metadata": {},
   "outputs": [],
   "source": [
    "w = np.random.random((3,))\n",
    "data = np.random.random((100,3))\n",
    "y = np.random.randint(0,2,size = (100,1))*2-1\n",
    "print(hinge(w,data,y), hinge(w,data[0],y[0]), hinge(w,data[0,:],y[0]))\n",
    "print(grad_hinge(w,data,y),grad_hinge(w,data[0],y[0]).shape,grad_hinge(w,data[0,:],y[0]).shape)"
   ]
  },
  {
   "cell_type": "markdown",
   "metadata": {},
   "source": [
    " "
   ]
  },
  {
   "cell_type": "markdown",
   "metadata": {
    "collapsed": true
   },
   "source": [
    "## Question 1.2 :"
   ]
  },
  {
   "cell_type": "code",
   "execution_count": null,
   "metadata": {
    "collapsed": true
   },
   "outputs": [],
   "source": [
    "def question12(data_type=0, epsilon=0.3, eps=1e-3):\n",
    "\n",
    "    ### Generation de donnees\n",
    "    xtrain,ytrain = gen_arti(data_type=data_type,epsilon=epsilon)\n",
    "    xtest,ytest = gen_arti(data_type=data_type,epsilon=epsilon)\n",
    "\n",
    "    plt.ion()\n",
    "\n",
    "    ### Apprentissage\n",
    "    model= Perceptron(eps=eps)\n",
    "    model.fit(xtrain,ytrain)\n",
    "    \n",
    "    ### Scores\n",
    "    print(\"\\nScore sur les données d'apprentissage : \",model.score(xtrain,ytrain))\n",
    "    print(\"Score sur les données de test : \",model.score(xtest,ytest))\n",
    "    \n",
    "    #### Tracer de la frontiere\n",
    "    plt.figure()\n",
    "    plot_frontiere(xtrain,model.predict,50)\n",
    "    plot_data(xtrain,ytrain)\n",
    "    plt.xlabel('X', fontsize=15)\n",
    "    plt.ylabel('Y', fontsize=15)\n",
    "    plt.title(\"Données d'apprentissage et Frontière prédite\", fontsize=15)"
   ]
  },
  {
   "cell_type": "code",
   "execution_count": null,
   "metadata": {
    "scrolled": false
   },
   "outputs": [],
   "source": [
    "question12()"
   ]
  },
  {
   "cell_type": "markdown",
   "metadata": {},
   "source": [
    "## Question 1.3 :"
   ]
  },
  {
   "cell_type": "code",
   "execution_count": null,
   "metadata": {
    "collapsed": true
   },
   "outputs": [],
   "source": [
    "## Représentation de la trajectoire de w\n",
    "\n",
    "def surface_3D(fonc, w1min=-1.1, w1max=1.1, w2min=-1.1, w2max=1.1, \n",
    "               colorscale='Viridis'):\n",
    "\n",
    "    ### Surface de la fonction de perte\n",
    "    w1 = np.linspace(w1min,w1max,num=40)\n",
    "    w2 = np.linspace(w2min,w2max,num=40)\n",
    "    fw = np.array([[fonc(np.array([xi,yi])) for yi in w2] for xi in w1])\n",
    "    \n",
    "    data_f = pd.DataFrame(data=fw)\n",
    "\n",
    "    trace1 = go.Surface(\n",
    "        x = w1,\n",
    "        y = w2,\n",
    "        z = data_f.as_matrix(),\n",
    "        opacity=0.9,\n",
    "        colorscale=colorscale,\n",
    "        name = \"Hinge loss\"\n",
    "    )\n",
    "    \n",
    "    return trace1"
   ]
  },
  {
   "cell_type": "code",
   "execution_count": null,
   "metadata": {
    "collapsed": true
   },
   "outputs": [],
   "source": [
    "def slider_3D(ite, x_histo, f_histo, trace1, fig=None, w=5, h=5):\n",
    "    \n",
    "    clear_output()\n",
    "    fig.clf()\n",
    "    fig = plt.figure()\n",
    "    data = [trace1]\n",
    "    \n",
    "    ### Représentation des itérations de descente :\n",
    "    xs = x_histo[:ite,0].reshape(-1)\n",
    "    ys = x_histo[:ite,1].reshape(-1)\n",
    "    zs = f_histo[:ite].reshape(-1)\n",
    "\n",
    "    trace2 = go.Scatter3d(\n",
    "        x=xs,\n",
    "        y=ys,\n",
    "        z=zs,\n",
    "        marker=dict(\n",
    "            size=5,\n",
    "            color='rgb(200, 0, 0)', # set color to an array/list of desired values   # choose a colorscale\n",
    "            opacity=4,\n",
    "        ),\n",
    "        line=dict(\n",
    "            color='rgb(200, 0, 0)',\n",
    "            width=2\n",
    "        ),\n",
    "    )\n",
    "\n",
    "    data.append(trace2)\n",
    "\n",
    "    layout = dict(margin=go.Margin(\n",
    "                        l=0,\n",
    "                        r=0,\n",
    "                        b=0,\n",
    "                        t=0,\n",
    "                    ),\n",
    "                  scene = dict(\n",
    "                        xaxis = dict(\n",
    "                            title='w1'),\n",
    "                        yaxis = dict(\n",
    "                            title='w2'),\n",
    "                    ), \n",
    "                 )\n",
    "\n",
    "    fig = dict(data=data, layout=layout)\n",
    "    py.iplot(fig)"
   ]
  },
  {
   "cell_type": "code",
   "execution_count": null,
   "metadata": {
    "collapsed": true
   },
   "outputs": [],
   "source": [
    "def slider_heatmap(ite, f, model, w1min=-1.1, w1max=1.1, w2min=-1.1, \n",
    "                   w2max=1.1, nb=100, w=5, h=5):\n",
    "    \n",
    "    ### Données à afficher\n",
    "    w1_x = np.linspace(w1min,w1max,num=nb)\n",
    "    w2_y = np.linspace(w2min,w2max,num=nb)\n",
    "    pdf = np.array([[f(np.array([w2_y[-1-i],w1_x[j]])) for j in range(nb)] for i in range(nb)])\n",
    "    w1_hist = nb/2*(model.histo_w[:, 0]) + nb/2\n",
    "    w2_hist = nb/2*(model.histo_w[:, 1]) + nb/2\n",
    "    \n",
    "    ### Valeurs des poids\n",
    "    print(\"Valeur initiale des poids :\", model.histo_w[0, :])\n",
    "    print(\"Valeur finale des poids :\", model.histo_w[-1, :])\n",
    "    \n",
    "    ### Heatmap \n",
    "    plt.figure()\n",
    "    ax = sns.heatmap(pdf.T, cmap=\"Spectral_r\", square=True,\n",
    "                     xticklabels=False, yticklabels=False)\n",
    "    plt.scatter(w1_hist[:ite+1], w2_hist[:ite+1], alpha=0.6, \n",
    "                color=\"red\")\n",
    "    plt.grid()\n",
    "    plt.xlabel('W1', fontsize=15)\n",
    "    plt.ylabel('W2', fontsize=15)\n",
    "    plt.title(\"Trajectoire de l'apprentissage dans l'espace des poids \\n\", \n",
    "              fontsize=15)\n",
    "    plt.show()"
   ]
  },
  {
   "cell_type": "code",
   "execution_count": null,
   "metadata": {
    "collapsed": true
   },
   "outputs": [],
   "source": [
    "def question13(display_mode=1, GD_mode=0, k=1, eps_mode=0, \n",
    "               eps=1e-3, max_iter=50, centerx=1, sigma=0.1, nbex=1000,\n",
    "               data_type=0, epsilon=0.02, w2min=-3, w2max=3, \n",
    "               winit=[], w=8, h=8):\n",
    "\n",
    "    fig1 = plt.figure()\n",
    "    \n",
    "    ### Données artificielles:\n",
    "    xtrain, ytrain = gen_arti(centerx=centerx, sigma=sigma, nbex=nbex,\n",
    "                              data_type=data_type, epsilon=epsilon)\n",
    "    \n",
    "    f = lambda w : hinge(w, xtrain, ytrain)\n",
    "\n",
    "    ### Compute of the model\n",
    "    model = Perceptron(eps=1e-3, max_iter=max_iter)\n",
    "    model.fit(xtrain,ytrain, k=k, GD_mode=GD_mode,eps_mode=eps_mode,\n",
    "              winit=winit)\n",
    "    \n",
    "    ### Compute of the colorscale\n",
    "    cls=[[0, 'rgb(0,0,131)'], [0.0075, 'rgb(0,60,170)'],\n",
    "         [0.125, 'rgb(5,255,255)'], [0.325, 'rgb(255,255,0)'],\n",
    "         [0.575, 'rgb(250,0,0)'], [1, 'rgb(128,0,0)']]\n",
    "\n",
    "    ### 3D graphic\n",
    "    trace1 = surface_3D(f, colorscale=cls)\n",
    "    \n",
    "    s1 = lambda ite: slider_3D(ite, model.histo_w, model.histo_f, \n",
    "                               trace1, fig=fig1, w=w, h=h)\n",
    "\n",
    "    ### 2D graphic\n",
    "    s2 = lambda ite : slider_heatmap(ite, f, model, w=w, h=h)\n",
    "    \n",
    "    if display_mode==1 :\n",
    "        res = interact(s1, ite=widgets.IntSlider(min=0,max=max_iter,\n",
    "                                                 step=2,value=0))\n",
    "    if display_mode==2 :\n",
    "        res = interact(s2, ite=widgets.IntSlider(min=0,max=max_iter,\n",
    "                                                 step=2,value=0))\n",
    "    \n",
    "    print(\"\\n Valeur Finale des W: \", model.histo_w[-1])\n",
    "    \n",
    "    #### Tracer de la frontiere\n",
    "    plt.figure()\n",
    "    plot_frontiere(xtrain,model.predict,50)\n",
    "    plot_data(xtrain,ytrain)\n",
    "    plt.xlabel('X', fontsize=15)\n",
    "    plt.ylabel('Y', fontsize=15)\n",
    "    plt.title(\"Données d'apprentissage et Frontière pr\", fontsize=15)  "
   ]
  },
  {
   "cell_type": "markdown",
   "metadata": {},
   "source": [
    "#### Cas des données non bruitées :\n",
    "\n",
    "-----------------------------------------------------------------------"
   ]
  },
  {
   "cell_type": "code",
   "execution_count": null,
   "metadata": {
    "scrolled": false
   },
   "outputs": [],
   "source": [
    "question13(display_mode=1)"
   ]
  },
  {
   "cell_type": "code",
   "execution_count": null,
   "metadata": {},
   "outputs": [],
   "source": [
    "question13(display_mode=2)"
   ]
  },
  {
   "cell_type": "markdown",
   "metadata": {},
   "source": [
    "#### Commentaire :\n",
    "\n",
    "* Dans le cas où les données sont séparables :\n",
    "\n",
    "Il existe bien évidemment plusieurs solutions pour l'équation de la frontière. Pour s'en convaincre, on peut remarquer qu'une infinité de tracé de frontière sont possibles sur le graphe ci-dessus. De plus, on remarque qu'expérimentalement, le graphe 3D semble assurer du fait qu'on est bien une infinité de solutions, puisqu'il existe tout un demi plan où la fonction de perte est minimale."
   ]
  },
  {
   "cell_type": "markdown",
   "metadata": {},
   "source": [
    "#### Cas des données non bruitées :\n",
    "\n",
    "-----------------------------------------------------------------------"
   ]
  },
  {
   "cell_type": "code",
   "execution_count": null,
   "metadata": {},
   "outputs": [],
   "source": [
    "question13(display_mode=1, epsilon=2)"
   ]
  },
  {
   "cell_type": "markdown",
   "metadata": {},
   "source": [
    "#### Commentaire :\n",
    "\n",
    "* Dans le cas où les données ne sont pas séparables :\n",
    "\n",
    "La fonction que l'on minise (la \"Hinge Loss\") ne possède pas de propriété de convexité forte  ou stricte. Nous ne sommes donc pas en mesure d'assurer l'unicité. Cependant, au vu du graphique 3D, il semble que la fonction admet bien un optimum global. Il semble donc qu'expérimentalement, il existe bien un unique optimum global et donc il existerait une solution pour la frontière unique."
   ]
  },
  {
   "cell_type": "markdown",
   "metadata": {},
   "source": [
    "## Question 1.4 :"
   ]
  },
  {
   "cell_type": "markdown",
   "metadata": {},
   "source": [
    "Pour voir l'implémentation des techniques de descente de gradient, il faut se reporter au début du fichier et regarder la méthode \"descent_gradient\" implémentée dans la classe \"Perceptron\"."
   ]
  },
  {
   "cell_type": "code",
   "execution_count": null,
   "metadata": {
    "collapsed": true
   },
   "outputs": [],
   "source": [
    "def slider_epsilon(epsilon, k=10, eps_mode=0, eps=1e-3, \n",
    "                   max_iter=50, centerx=1, sigma=1, nbex=1000, \n",
    "                   data_type=0, w2min=-3, w2max=3, w=10, h=15):\n",
    "    \n",
    "    GD_names=[\"Descente Batch\",\n",
    "              \"Descente Stochastique\", \"Descente Mini-Batch\"]\n",
    "    \n",
    "    winit = np.random.random((1,2))\n",
    "    \n",
    "    ### Données artificielles:\n",
    "    xtrain, ytrain = gen_arti(centerx=centerx, sigma=sigma, nbex=nbex,\n",
    "                              data_type=data_type, epsilon=epsilon) \n",
    "    \n",
    "    ### Compute of the model\n",
    "    model = Perceptron(eps=1e-3, max_iter=max_iter)\n",
    "    iterations = range(max_iter)\n",
    "    \n",
    "    ### Compute the convergence :\n",
    "    figure_size(w,h)\n",
    "    plt.figure()\n",
    "    for m in tqdm(range(3)):\n",
    "        \n",
    "        \n",
    "        model.fit(xtrain,ytrain, k=k, GD_mode=m, eps_mode=eps_mode,\n",
    "                  winit=winit, informations=False)\n",
    "        \n",
    "        fs = model.histo_f\n",
    "        \n",
    "        plt.plot(iterations, fs, label=GD_names[m])\n",
    "        plt.xlabel('Itérations', fontsize=15)\n",
    "        plt.ylabel(\"Fonction de coût\", fontsize=15)\n",
    "        plt.title(\"Convergence en fonction de la méthode de descente utilisée et pour un bruit égale à {}\".format(epsilon), \n",
    "                 fontsize=15)\n",
    "        plt.legend()  \n",
    "        \n",
    "    plt.show()\n",
    "    \n",
    "    #### Tracer de la frontiere\n",
    "    plt.figure()\n",
    "    plot_frontiere(xtrain,model.predict,50)\n",
    "    plot_data(xtrain,ytrain)\n",
    "    plt.xlabel('X', fontsize=15)\n",
    "    plt.ylabel('Y', fontsize=15)\n",
    "    plt.title(\"Données d'apprentissage et Frontière prédite pour un bruit de {}\".format(epsilon), fontsize=15) \n",
    "    plt.show()"
   ]
  },
  {
   "cell_type": "code",
   "execution_count": null,
   "metadata": {
    "collapsed": true
   },
   "outputs": [],
   "source": [
    "def question14(eps_mode, k=10, eps=1e-3, max_iter=50, centerx=1, \n",
    "               sigma=0.1, nbex=1000, data_type=0, w2min=-3, w2max=3, \n",
    "               step=100, w=8, h=6) :\n",
    "    \n",
    "    s_epsilon = lambda epsilon : slider_epsilon(epsilon/step, k=k, \n",
    "                                                eps_mode=eps_mode, \n",
    "                                                eps=eps, \n",
    "                                                max_iter=max_iter, \n",
    "                                                centerx=centerx,\n",
    "                                                sigma=sigma, nbex=nbex, \n",
    "                                                data_type=data_type, \n",
    "                                                w2min=w2min, \n",
    "                                                w2max=w2max, w=w, h=h)\n",
    "    \n",
    "    res = interact(s_epsilon, epsilon=widgets.IntSlider(min=1,max=261,\n",
    "                                                 step=40,value=0))   "
   ]
  },
  {
   "cell_type": "code",
   "execution_count": null,
   "metadata": {},
   "outputs": [],
   "source": [
    "question14(eps_mode=0)"
   ]
  },
  {
   "cell_type": "markdown",
   "metadata": {},
   "source": [
    "#### Commentaire :\n",
    "\n",
    "Avant toute chose, il est bon ton de rappeler que nous avons considéré des données artificielles séparables dans le cas où le bruit est nul (ie la variance est faible et les centres des gaussiennes sont éloignés). \n",
    "\n",
    "##### - Influence de la méthode de descente sur la vitesse de convergence :\n",
    "\n",
    "On peut d'ores et déjà constaté que les trois méthodes produisent des résultats très similaires dans leur vitesse de convergence et ce peu importe le bruit. Nous remarquerons seulement que la descente stochastique est en général irrégulière du fait de sa nature aléatoire. De même la méthode par \"mini-batch\" est en général la plus performante. Dans la suite des remarques, nous ne ferons plus la distinction entre ces trois méthodes.\n",
    "\n",
    "#####  - Influence du bruit sur la convergence :\n",
    "\n",
    "Lorsque le bruit est extrêment faible, où nul, on constate souvent que dès la première itérations, nous avons une solution optimale. Ceci est lié au choix du paramètre initial.\n",
    "\n",
    "Lorsque le bruit est très grand (supérieur ou égale à 1.5), on constate de la même manière que la convergence se produit de manière très rapide. En effet, on constate que la convergence vers une solution optimale se produit en moins de 10 itérations. \n",
    "\n",
    "Lorsque le bruit est compris entre ces deux régimes, on constate que le nombre d'itérations nécessaires à la convergence se réduit à mesure que le bruit augmente. En effet, on peut constater que lorsque le bruit est proche de $0.40$, aucune des méthode de descente de gradient ne parvient à converger. Ceci semble logique avec les constatations précédentes. En effet, comme nous avons pu le voir à la question 1.3, la nappe qui représente le coût en fonction du choix de $w_1$ et $w_2$ se singularise de plus en plus au niveau de la solution optimale à mesure que le bruit augmente. Ainsi, plus le bruit augmente, plus le gradient sur les premières itérations est élevé et permet ainsi une descente rapide. Ces remarques ne sont bien-sûre valable que si on considère un pas de descente adapté (ici constant égale à 10e-3)."
   ]
  },
  {
   "cell_type": "markdown",
   "metadata": {},
   "source": [
    "### Question 1.5 :"
   ]
  },
  {
   "cell_type": "markdown",
   "metadata": {},
   "source": [
    "Pour voir l'implémentation des techniques de calcul du pas de descente, il faut se reporter au début du fichier et regarder la méthode \"get_eps\" implémentée dans la classe \"Perceptron\"."
   ]
  },
  {
   "cell_type": "code",
   "execution_count": null,
   "metadata": {
    "collapsed": true
   },
   "outputs": [],
   "source": [
    "def question15(k=10, eps=1e-3, max_iter=50, centerx=1, \n",
    "               sigma=0.1, nbex=1000, data_type=0, w2min=-3, w2max=3, \n",
    "               step=100, w=8, h=6) :\n",
    "    \n",
    "\n",
    "    s_epsilon_eps_mode = lambda eps_mode, epsilon: slider_epsilon(epsilon/step, k=k, \n",
    "                                                eps_mode=eps_mode, \n",
    "                                                eps=eps, \n",
    "                                                max_iter=max_iter, \n",
    "                                                centerx=centerx,\n",
    "                                                sigma=sigma, nbex=nbex, \n",
    "                                                data_type=data_type, \n",
    "                                                w2min=w2min, \n",
    "                                                w2max=w2max, w=w, h=h)\n",
    "    \n",
    "    res = interact(s_epsilon_eps_mode, eps_mode=widgets.IntSlider(min=0, max=2, step=1, value=0),\n",
    "                   epsilon=widgets.IntSlider(min=1, max=261, step=40, value=0))\n",
    "    \n",
    "    "
   ]
  },
  {
   "cell_type": "code",
   "execution_count": null,
   "metadata": {
    "scrolled": false
   },
   "outputs": [],
   "source": [
    "question15()"
   ]
  },
  {
   "cell_type": "markdown",
   "metadata": {},
   "source": [
    "#### Commentaire :\n",
    "\n",
    "##### - Influence de la méthode du choix du pas de descente sur la vitesse de convergence :\n",
    "\n",
    "Dans le cas où on considère un pas de descente inversement proportionnel avec les itérations, on constate que l'on obtient des résultats assez similaires que dans le cas d'un pas constant faible. On observe les trois mêmes régimes. \n",
    "\n",
    "On peut toutefois noter que la convergence se fait de manière plus rapide que précédement. Ceci peut sembler logique car dans notre cas des données artificielles, il plus intéressant de descendre très vite en gardant le gradient élevé au début vu que la direction de descente va globalement rester la même. Ainsi, un pas important au début puis qui décroît progressivement est particulièrement intéressant. On notera aussi que contrairement au cas du pas constant, on atteint pas forcément l'optimum.\n",
    "\n",
    "Dans le cas où on considère un pas de descente inversement proportionnel avec le carré des itérations, on retrouve des résultats simialires avec peut être une convergence encore plus rapide.\n"
   ]
  },
  {
   "cell_type": "markdown",
   "metadata": {
    "collapsed": true
   },
   "source": [
    "# Question 2 : Données USPS"
   ]
  },
  {
   "cell_type": "markdown",
   "metadata": {},
   "source": [
    "## Question 2.1 :"
   ]
  },
  {
   "cell_type": "code",
   "execution_count": 37,
   "metadata": {
    "collapsed": true
   },
   "outputs": [],
   "source": [
    "def load_usps(filename):\n",
    "    with open(filename,\"r\") as f:\n",
    "        f.readline()\n",
    "        data =[ [float(x) for x in l.split()] for l in f if len(l.split())>2]\n",
    "    tmp = np.array(data)\n",
    "    return tmp[:,1:],tmp[:,0].astype(int)\n",
    "\n",
    "def get_usps(l,datax,datay):\n",
    "    \"\"\" l : liste des chiffres a extraire\"\"\"\n",
    "    if type(l)!=list:\n",
    "        resx = datax[datay==l,:]\n",
    "        resy = datay[datay==l]\n",
    "        return resx,resy\n",
    "    tmp =   list(zip(*[get_usps(i,datax,datay) for i in l]))\n",
    "    tmpx,tmpy = np.vstack(tmp[0]),np.hstack(tmp[1])\n",
    "    idx = np.random.permutation(range(len(tmpy)))\n",
    "    return tmpx[idx,:],tmpy[idx]\n",
    "\n",
    "def show_usps(data):\n",
    "    plt.imshow(data.reshape((16,16)),interpolation=\"nearest\",cmap=\"gray\")"
   ]
  },
  {
   "cell_type": "code",
   "execution_count": 38,
   "metadata": {
    "scrolled": true
   },
   "outputs": [
    {
     "name": "stdout",
     "output_type": "stream",
     "text": [
      "Itérations de l'algorithme d'apprentissage ... \n",
      "\n",
      "0 [ 0.69596444]\n",
      "20 [ 0.01429223]\n",
      "40 [ 0.00594483]\n",
      "60 [ 0.00309303]\n",
      "80 [ 0.00112513]\n",
      "100 [ 0.00011946]\n",
      "120 [ 0.]\n",
      "140 [ 0.]\n",
      "score en train :  1.0\n",
      "score en test :  0.981096408318\n",
      "weight matrix :  [[ 0.27297959  0.33231671  0.16868301  0.84668861 -0.18981533  0.31567115\n",
      "   0.15668175 -0.55019992  0.22895595  0.81761662  0.44579339  0.44003169\n",
      "   0.48734074  0.35263776  0.6605684   0.84922396  0.60125587  0.0654218\n",
      "   0.2378104   0.31086079  0.14378279 -0.64810779 -0.69167753 -1.07854621\n",
      "  -0.11979777 -0.18269037 -0.33691739  0.16976881  0.22940239  0.63593771\n",
      "   0.3924799   0.38566163  0.93428923  0.85904516 -0.27766775  0.2976294\n",
      "  -0.11331371  0.06012874 -0.45174986  0.02044327 -0.1265679  -0.04055934\n",
      "  -0.487583   -0.23284139 -0.00883819 -0.04391317  0.45423726  0.61644007\n",
      "   0.6137661   0.66970437 -0.06540394 -0.5811242  -0.54467945  0.28492629\n",
      "  -0.58844355 -0.75477323 -0.57888366 -0.38257373 -0.4507296  -0.61701965\n",
      "  -0.41951093  0.21443529  0.03300273 -0.05643858  0.19770401  0.3338878\n",
      "  -0.02060866 -0.39331605  0.1408482   0.03169615  0.10101592 -0.08520246\n",
      "  -0.43467458 -0.94582441 -0.44056676 -0.79321997 -0.50973573 -0.60362178\n",
      "   0.08464874  0.33916714 -0.11495475  0.22305119  0.17044159  0.05910703\n",
      "   0.09870607 -0.16884686  0.07723974 -0.17778929 -0.06522953 -0.4539819\n",
      "  -0.25189641 -0.58322509  0.18586537 -0.02479578  0.13228509  0.2478986\n",
      "  -0.07865803 -0.50534596 -0.54451362 -0.54807125  0.02840357  0.19384862\n",
      "   0.31059424  0.40998237  0.36945413 -0.4219327  -0.18593819 -0.36712723\n",
      "   0.06655439 -0.29769298 -0.49400841  0.1438468   0.05651436  0.2954021\n",
      "   0.25705572  0.14706498  0.3832751  -0.1781231  -0.32099622  0.07964791\n",
      "   0.45713915  0.55694338  0.19490365  0.05535239 -0.01928745 -0.42479334\n",
      "  -0.40609158 -0.24038654  0.03310599 -0.04849483 -0.3259486   0.18923958\n",
      "   0.07147509 -0.12264615  0.11607821  0.49786238  0.35578866  0.43599349\n",
      "   0.62084238  0.63238746  0.09648283  0.10179438 -0.16205715  0.32498005\n",
      "   0.04171913 -0.08888919  0.28509836 -0.17358464  0.34803084  0.39313125\n",
      "   0.30670216  0.73833359  0.32677233  0.25283522  0.03243979 -0.27706056\n",
      "   0.35187799 -0.29956482 -0.09248211 -0.49809721  0.64015451  0.07920526\n",
      "   0.2567848   0.32674496  0.10907369  0.32947038  0.30802786  0.76764309\n",
      "   0.40987064  0.63612093  0.07433029  0.38022042 -0.36940524 -0.25787029\n",
      "  -0.02140309  0.49054314  0.65253835 -0.0938643  -0.36043226 -0.14404363\n",
      "  -0.50715835  0.00219635  0.08923432  0.48991777  0.2176351   0.6038992\n",
      "   0.29737341 -0.00127037 -0.02842429 -0.01176127  0.08908966  0.06025235\n",
      "   0.00891755  0.11665421 -0.11140945  0.32720021 -0.22552944 -0.13772622\n",
      "   0.25834092  0.3210848  -0.17936643 -0.38581927 -0.15815347  0.4825753\n",
      "  -0.11853831 -0.26881052 -0.24517012  0.14532516  0.82751704  0.66938937\n",
      "   0.38819873  0.31316184 -0.21268419  0.0598677  -0.37457225  0.20799906\n",
      "   0.19572312  0.22352724  0.26491694 -0.05495215 -0.37061921  0.4988914\n",
      "   0.0605014   0.18535173  0.01175598  0.94922404 -0.11072688  0.33053187\n",
      "  -0.12064735  0.46108367 -0.43407678  0.13165159 -0.24315378  0.43153934\n",
      "  -0.01363924 -0.12354655  0.27895653  0.83693941  0.33786941  0.10457946\n",
      "   0.4783693   0.95876498  0.44491539  0.15379919  0.73406805  0.57284767\n",
      "   0.08364694 -0.43427121  0.36192872  0.35538396  0.16185146  0.60798695\n",
      "   0.45984286  0.94655882  0.10577809  0.48975437]]\n"
     ]
    }
   ],
   "source": [
    "xuspstrain,yuspstrain = load_usps(\"USPS_train.txt\")\n",
    "xuspstest,yuspstest = load_usps(\"USPS_test.txt\")\n",
    "x06train,y06train = get_usps([0,6],xuspstrain,yuspstrain)\n",
    "x06test,y06test = get_usps([0,6],xuspstest,yuspstest)\n",
    "\n",
    "model = Perceptron(max_iter=150)\n",
    "model.fit(x06train, y06train)\n",
    "print(\"score en train : \",model.score(x06train,y06train))\n",
    "print(\"score en test : \",model.score(x06test,y06test))\n",
    "print(\"weight matrix : \", model.w)"
   ]
  },
  {
   "cell_type": "code",
   "execution_count": null,
   "metadata": {
    "scrolled": true
   },
   "outputs": [],
   "source": [
    "xtrain,ytrain = get_usps([1, 2, 6, 8],xuspstrain,yuspstrain)\n",
    "xtest,ytest = get_usps([1, 2, 6, 8],xuspstest,yuspstest)\n",
    "\n",
    "\n",
    "ytrain = np.where(np.logical_or(ytrain==1, ytrain==2), 1, -1)\n",
    "ytest = np.where(np.logical_or(ytest==1, ytest==2), 1, -1)\n",
    "\n",
    "model2 = Perceptron(max_iter=150)\n",
    "model2.fit(xtrain, ytrain)\n",
    "print(\"score en train : \",model2.score(xtrain,ytrain))\n",
    "print(\"score en test : \",model2.score(xtest,ytest))\n",
    "print(\"weight matrix : \", model2.w)"
   ]
  },
  {
   "cell_type": "code",
   "execution_count": null,
   "metadata": {
    "scrolled": true
   },
   "outputs": [],
   "source": [
    "x1alltrain,y1alltrain = get_usps([i for i in range(10)],xuspstrain,yuspstrain)\n",
    "x1alltest,y1alltest = get_usps([i for i in range(10)],xuspstest,yuspstest)\n",
    "\n",
    "y1alltrain[y1alltrain != 1] = -1\n",
    "y1alltest[y1alltest != 1] = -1\n",
    "\n",
    "model3 = Perceptron(max_iter=150)\n",
    "model3.fit(x1alltrain, y1alltrain)\n",
    "print(\"score en train : \",model3.score(x1alltrain,y1alltrain))\n",
    "print(\"score en test : \",model3.score(x1alltest,y1alltest))\n",
    "print(\"weight matrix : \", model3.w)"
   ]
  },
  {
   "cell_type": "markdown",
   "metadata": {},
   "source": [
    "## Question 2.2"
   ]
  },
  {
   "cell_type": "code",
   "execution_count": null,
   "metadata": {},
   "outputs": [],
   "source": [
    "plt.figure()\n",
    "model.errors(x06train, y06train, \"Ensemble d'entraînement\")\n",
    "model.errors(x06test, y06test, \"Ensemble de test\")\n",
    "plt.title(\"0 vs 6\")\n",
    "plt.legend()"
   ]
  },
  {
   "cell_type": "markdown",
   "metadata": {},
   "source": [
    "Sur le graphe ci-dessus, on observe que l'erreur sur l'ensemble de test est décroissante. Elle devient constante à partir d'un certain nombre d'itérations, mais n'**augmente pas**. A ce titre, on peut dire que l'on **n'observe pas de surapprentissage** dans cette configuration"
   ]
  },
  {
   "cell_type": "code",
   "execution_count": null,
   "metadata": {},
   "outputs": [],
   "source": [
    "plt.figure()\n",
    "model2.errors(xtrain, ytrain, \"Ensemble d'entraînement\")\n",
    "model2.errors(xtest, ytest, \"Ensemble de test\")\n",
    "plt.title(\"1,2  vs 6,8\")\n",
    "plt.legend()"
   ]
  },
  {
   "cell_type": "markdown",
   "metadata": {},
   "source": [
    "Pour la configuration **1,2 vs. 6,8**, on observe une très légère croissance de l'erreur sur l'ensemble de test pour des itérations élevées.\n",
    "Il y a un **risque de surapprentissage** dans ce cas."
   ]
  },
  {
   "cell_type": "code",
   "execution_count": null,
   "metadata": {},
   "outputs": [],
   "source": [
    "plt.figure()\n",
    "model2.errors(x1alltrain, y1alltrain, \"Ensemble d'entraînement\")\n",
    "model2.errors(x1alltest, y1alltest, \"Ensemble de test\")\n",
    "plt.title(\"1 vs all\")\n",
    "plt.legend()"
   ]
  },
  {
   "cell_type": "markdown",
   "metadata": {},
   "source": [
    "Pour cette dernière configuration, on n'observe pas non plus de  façon nette de surraprentissage.\n",
    "On en conclut que le perceptron n'est pas particulièrement confronté aux problèmes de surraprentissage"
   ]
  },
  {
   "cell_type": "markdown",
   "metadata": {},
   "source": [
    "# 3 Expressivité et feature map"
   ]
  },
  {
   "cell_type": "markdown",
   "metadata": {},
   "source": [
    "## Question 3.1"
   ]
  },
  {
   "cell_type": "code",
   "execution_count": 27,
   "metadata": {},
   "outputs": [
    {
     "data": {
      "image/png": "[encoded data removed]",
      "text/plain": [
       "<matplotlib.figure.Figure at 0x7f6c3e65f390>"
      ]
     },
     "metadata": {},
     "output_type": "display_data"
    }
   ],
   "source": [
    "### Generation de donnees\n",
    "xtrain,ytrain = gen_arti(data_type=1,epsilon=.2)\n",
    "xtest,ytest = gen_arti(data_type=1,epsilon=.2)\n",
    "\n",
    "plot_data(xtrain, ytrain)\n",
    "\n",
    "plt.ion()\n"
   ]
  },
  {
   "cell_type": "markdown",
   "metadata": {},
   "source": [
    "Cette nouvelle configuration simulée est plus complexe que la précédente."
   ]
  },
  {
   "cell_type": "code",
   "execution_count": 12,
   "metadata": {},
   "outputs": [
    {
     "name": "stdout",
     "output_type": "stream",
     "text": [
      "Itérations de l'algorithme d'apprentissage ... \n",
      "\n",
      "0 [ 0.11177588]\n",
      "20 [ 0.00042903]\n",
      "40 [ 0.00045256]\n",
      "60 [ 0.00036277]\n",
      "80 [ 0.00041948]\n",
      "100 [ 0.00046537]\n",
      "120 [ 0.00051418]\n",
      "140 [ 0.00018774]\n",
      "160 [ 0.00053012]\n",
      "180 [  5.55917072e-05]\n",
      "200 [ 0.00037253]\n",
      "220 [ 0.00027163]\n",
      "240 [  7.29406541e-05]\n",
      "260 [ 0.00042539]\n",
      "280 [ 0.00069972]\n",
      "300 [ 0.00043944]\n",
      "320 [ 0.00067446]\n",
      "340 [ 0.00050916]\n",
      "360 [ 0.00049568]\n",
      "380 [ 0.00046405]\n",
      "400 [ 0.00049442]\n",
      "420 [ 0.00041468]\n",
      "440 [ 0.00070219]\n",
      "460 [ 0.00067714]\n",
      "480 [ 0.00042692]\n",
      "score en train :  0.497\n",
      "score en test :  0.498\n"
     ]
    },
    {
     "data": {
      "image/png": "[encoded data removed]",
      "text/plain": [
       "<matplotlib.figure.Figure at 0x7f6c445a3be0>"
      ]
     },
     "metadata": {},
     "output_type": "display_data"
    }
   ],
   "source": [
    "### Apprentissage\n",
    "model= Perceptron(eps=1e-3, max_iter=500)\n",
    "model.fit(xtrain,ytrain)\n",
    "print(\"score en train : \",model.score(xtrain,ytrain))\n",
    "print(\"score en test : \",model.score(xtest,ytest))\n",
    "#### Tracer de frontiere\n",
    "plt.figure()\n",
    "plt.title(\"Frontière de décision\")\n",
    "plot_frontiere(xtrain,model.predict,50)\n",
    "plot_data(xtrain,ytrain)"
   ]
  },
  {
   "cell_type": "markdown",
   "metadata": {},
   "source": [
    "En effet, on remarque que la frontière ne peut pas être modélisée par une droite. Idéalement, il faudrait pouvoir faire \"gagner en dimension\" le perceptron.\n",
    "Pour cela, nous allons implémenter plusieurs *feature maps* permettant de répondre à cette attente."
   ]
  },
  {
   "cell_type": "markdown",
   "metadata": {},
   "source": [
    "## Question 3.2 : Prolongement Polynomial"
   ]
  },
  {
   "cell_type": "code",
   "execution_count": 13,
   "metadata": {
    "collapsed": true
   },
   "outputs": [],
   "source": [
    "def poly(x):\n",
    "    \"\"\"Only works in 2D\"\"\"\n",
    "    n, d = np.shape(x)\n",
    "    assert(d == 2)\n",
    "    res = np.ones((n, 6))\n",
    "    res[:, 1:3] = x\n",
    "    res[:, 3] = x[:, 0]*x[:, 1]\n",
    "    res[:, 4:6] = x*x\n",
    "    return res"
   ]
  },
  {
   "cell_type": "code",
   "execution_count": 14,
   "metadata": {},
   "outputs": [
    {
     "name": "stdout",
     "output_type": "stream",
     "text": [
      "[[ 1.         -1.4980266  -0.65603851  0.98276314  2.24408368  0.43038653]\n",
      " [ 1.          1.62201944  0.41958327  0.68057223  2.63094706  0.17605012]\n",
      " [ 1.         -0.72329221 -1.25841542  0.91020207  0.52315162  1.58360937]]\n"
     ]
    }
   ],
   "source": [
    "print(poly(xtrain)[:3,:])"
   ]
  },
  {
   "cell_type": "code",
   "execution_count": 15,
   "metadata": {},
   "outputs": [
    {
     "name": "stdout",
     "output_type": "stream",
     "text": [
      "Itérations de l'algorithme d'apprentissage ... \n",
      "\n",
      "0 [ 0.05327046]\n",
      "20 [ 0.00130768]\n",
      "40 [ 0.00056971]\n",
      "60 [ 0.00032592]\n",
      "80 [ 0.00023662]\n",
      "100 [ 0.00020407]\n",
      "120 [ 0.00020033]\n",
      "140 [ 0.0001902]\n",
      "160 [ 0.00019323]\n",
      "180 [ 0.00018788]\n",
      "200 [ 0.00019294]\n",
      "220 [ 0.00019207]\n",
      "240 [ 0.00019122]\n",
      "260 [ 0.00018727]\n",
      "280 [ 0.00018191]\n",
      "300 [ 0.00017816]\n",
      "320 [ 0.00017665]\n",
      "340 [ 0.0001758]\n",
      "360 [ 0.0001813]\n",
      "380 [ 0.00017415]\n",
      "400 [ 0.00017051]\n",
      "420 [ 0.00017904]\n",
      "440 [ 0.00017478]\n",
      "460 [ 0.00017393]\n",
      "480 [ 0.00016546]\n",
      "score en train :  0.996\n",
      "score en test :  0.992\n"
     ]
    },
    {
     "data": {
      "image/png": "[encoded data removed]",
      "text/plain": [
       "<matplotlib.figure.Figure at 0x7f6c445954e0>"
      ]
     },
     "metadata": {},
     "output_type": "display_data"
    }
   ],
   "source": [
    "### Apprentissage\n",
    "model= Perceptron(eps=1e-3, max_iter=500, projection=poly)\n",
    "model.fit(xtrain,ytrain)\n",
    "print(\"score en train : \",model.score(xtrain,ytrain))\n",
    "print(\"score en test : \",model.score(xtest,ytest))\n",
    "#### Tracer de frontiere\n",
    "plt.figure()\n",
    "plt.title(\"Frontière de décision (Prolongement polynomial)\")\n",
    "plot_frontiere(xtrain,model.predict,50)\n",
    "plot_data(xtrain,ytrain)"
   ]
  },
  {
   "cell_type": "markdown",
   "metadata": {},
   "source": [
    "En plongeant l'espace en dimension 5, on a pu augmenter l'expressivité de notre perceptron. Ainsi, la frontière obtenue modélise plus fidèlement la réalité."
   ]
  },
  {
   "cell_type": "markdown",
   "metadata": {},
   "source": [
    "## Question 3.3 : Plongement gaussien"
   ]
  },
  {
   "cell_type": "markdown",
   "metadata": {},
   "source": [
    "La ième dimension dans l'espace projeté correspond à la probabilité d'observer $X=x$ si X suit une loi gaussienne de moyenne $o^i$ et de variance $\\sigma$ à une facteur de normalisation près.\n",
    "\n",
    "Les $o^i$ correspondent à $N_b$ gaussiennes. Une valeur très importante de $k(x, o^i)$ signifiera qu'il y a une forte probabilité que $x$ soit issue de la gaussienne de paramètres $(o^i, \\sigma)$"
   ]
  },
  {
   "cell_type": "code",
   "execution_count": 16,
   "metadata": {
    "collapsed": true
   },
   "outputs": [],
   "source": [
    "def k(x, xp, sigma):\n",
    "    xp = xp.reshape(-1)\n",
    "    norm = np.linalg.norm(x - xp, axis=1)\n",
    "    return np.exp(-norm*norm/(2*sigma**2))\n",
    "\n",
    "\n",
    "def gauss(x, B, sigma=1):\n",
    "    \"\"\"Conventions\n",
    "    B matrice de taille Nb*d\n",
    "    x matrice de taille n*d\"\"\"\n",
    "    nb, db = np.shape(B)\n",
    "    nx, dx = np.shape(x)\n",
    "    res = np.zeros((nx, nb))\n",
    "    for i in range(nb):\n",
    "        o = B[i, :]\n",
    "        res[:, i] = k(x, o, sigma)\n",
    "    return res\n",
    "\n",
    "def B(x, nb=10, mode=1, sigma=1):\n",
    "    nx, dx = np.shape(x)\n",
    "    if mode==1: # Centres pris aléatoirement\n",
    "        min_x, max_x = np.amin(x, axis=0), np.amax(x, axis=0)\n",
    "        matb = np.random.rand(nb, dx)\n",
    "        matb = (max_x-min_x)*matb + min_x\n",
    "    \n",
    "    else: # Centres pris dans la base d'apprentissage\n",
    "        indices = range(nx)\n",
    "        indices = np.random.permutation(indices)\n",
    "        matb = x[indices[:nb],:] # Question: faut-il modifier x\n",
    "    return matb\n"
   ]
  },
  {
   "cell_type": "markdown",
   "metadata": {},
   "source": [
    "### 1) Expérimentation avec des centres pris aléatoirement"
   ]
  },
  {
   "cell_type": "code",
   "execution_count": 17,
   "metadata": {},
   "outputs": [
    {
     "name": "stdout",
     "output_type": "stream",
     "text": [
      "Itérations de l'algorithme d'apprentissage ... \n",
      "\n",
      "0 [ 0.43031574]\n",
      "20 [ 0.00132753]\n",
      "40 [ 0.00076839]\n",
      "60 [ 0.00046223]\n",
      "80 [ 0.00029138]\n",
      "100 [ 0.00022691]\n",
      "120 [ 0.00020835]\n",
      "140 [ 0.000191]\n",
      "160 [ 0.0001758]\n",
      "180 [ 0.00016332]\n",
      "200 [ 0.00015479]\n",
      "220 [ 0.00014625]\n",
      "240 [ 0.00013837]\n",
      "260 [ 0.00013157]\n",
      "280 [ 0.00012712]\n",
      "300 [ 0.00012208]\n",
      "320 [ 0.00011651]\n",
      "340 [ 0.00011266]\n",
      "360 [ 0.00010723]\n",
      "380 [ 0.00010172]\n",
      "400 [  9.90402648e-05]\n",
      "420 [  9.23899162e-05]\n",
      "440 [  8.72481109e-05]\n",
      "460 [  8.28729763e-05]\n",
      "480 [  7.86751333e-05]\n",
      "score en train :  0.996\n",
      "score en test :  0.99\n"
     ]
    },
    {
     "data": {
      "image/png": "[encoded data removed]",
      "text/plain": [
       "<matplotlib.figure.Figure at 0x7f6c3e66d128>"
      ]
     },
     "metadata": {},
     "output_type": "display_data"
    }
   ],
   "source": [
    "B_rand = B(xtrain)\n",
    "gauss_rand = lambda x: gauss(x, B_rand)\n",
    "\n",
    "### Apprentissage\n",
    "model= Perceptron(eps=1e-3, max_iter=500, projection=gauss_rand)\n",
    "model.fit(xtrain,ytrain)\n",
    "print(\"score en train : \",model.score(xtrain,ytrain))\n",
    "print(\"score en test : \",model.score(xtest,ytest))\n",
    "#### Tracer de frontiere\n",
    "plt.figure()\n",
    "plt.title(\"Frontière de décision (Prolongement polynomial)\")\n",
    "plot_frontiere(xtrain,model.predict,50)\n",
    "plot_data(xtrain,ytrain)\n"
   ]
  },
  {
   "cell_type": "markdown",
   "metadata": {},
   "source": [
    "### 2) Expérimentation avec des centres tirés de l'ensemble de test"
   ]
  },
  {
   "cell_type": "code",
   "execution_count": 18,
   "metadata": {},
   "outputs": [
    {
     "name": "stdout",
     "output_type": "stream",
     "text": [
      "Itérations de l'algorithme d'apprentissage ... \n",
      "\n",
      "0 [ 0.6379361]\n",
      "20 [ 0.00017286]\n",
      "40 [  7.73979368e-05]\n",
      "60 [  6.85444292e-05]\n",
      "80 [  6.61039857e-05]\n",
      "100 [  6.51212677e-05]\n",
      "120 [  6.48013616e-05]\n",
      "140 [  6.51344755e-05]\n",
      "160 [  6.41992013e-05]\n",
      "180 [  6.40283418e-05]\n",
      "200 [  6.30930676e-05]\n",
      "220 [  6.36871536e-05]\n",
      "240 [  6.24917983e-05]\n",
      "260 [  6.30858843e-05]\n",
      "280 [  6.25416502e-05]\n",
      "300 [  6.09570370e-05]\n",
      "320 [  6.02187729e-05]\n",
      "340 [  6.07076319e-05]\n",
      "360 [  6.25675136e-05]\n",
      "380 [  5.91783290e-05]\n",
      "400 [  6.12024493e-05]\n",
      "420 [  6.08607191e-05]\n",
      "440 [  5.92867033e-05]\n",
      "460 [  6.11711625e-05]\n",
      "480 [  6.07578554e-05]\n",
      "score en train :  0.996\n",
      "score en test :  0.987\n"
     ]
    },
    {
     "data": {
      "image/png": "[encoded data removed]",
      "text/plain": [
       "<matplotlib.figure.Figure at 0x7f6c3e2c7e10>"
      ]
     },
     "metadata": {},
     "output_type": "display_data"
    }
   ],
   "source": [
    "B_sample = B(xtrain, nb=10, mode=2)\n",
    "gauss_sample = lambda x: gauss(x, B_sample)\n",
    "\n",
    "### Apprentissage\n",
    "model= Perceptron(eps=1e-3, max_iter=500, projection=gauss_sample)\n",
    "model.fit(xtrain,ytrain)\n",
    "print(\"score en train : \",model.score(xtrain,ytrain))\n",
    "print(\"score en test : \",model.score(xtest,ytest))\n",
    "#### Tracer de frontiere\n",
    "plt.figure()\n",
    "plt.title(\"Frontière de décision (Prolongement polynomial)\")\n",
    "plot_frontiere(xtrain,model.predict,50)\n",
    "plot_data(xtrain,ytrain)\n"
   ]
  },
  {
   "cell_type": "markdown",
   "metadata": {},
   "source": [
    "### Interprétation"
   ]
  },
  {
   "cell_type": "markdown",
   "metadata": {},
   "source": [
    "Pour les 2 choix de $B$, on obtient de très bons résultats vis-à-vis de notre classification.\n",
    "\n"
   ]
  },
  {
   "cell_type": "markdown",
   "metadata": {},
   "source": [
    "## Question 3.4"
   ]
  },
  {
   "cell_type": "markdown",
   "metadata": {
    "collapsed": true
   },
   "source": [
    "En augmentant la dimension de notre modèle, on gagne fortement en expressivité. Ceci se traduit à la fois par des scores bien plus élevés qu'avec un modèle linéaire, mais également par des frontières plus réalistes.\n",
    "Néanmoins, ce pouvoir d'expressivité peut aussi jouer contre nous, dans la mesure où en projetant sur un espace de dimension trop élevée, on risque de faire du **surapprentissage** ... "
   ]
  },
  {
   "cell_type": "code",
   "execution_count": 30,
   "metadata": {},
   "outputs": [
    {
     "name": "stdout",
     "output_type": "stream",
     "text": [
      "Itérations de l'algorithme d'apprentissage ... \n",
      "\n",
      "0 [ 43.7592745]\n",
      "20 [ 0.31722261]\n",
      "40 [ 0.17976554]\n",
      "60 [ 0.0926785]\n",
      "80 [ 0.04069491]\n",
      "score en train :  0.912\n",
      "score en test :  0.895\n"
     ]
    },
    {
     "data": {
      "image/png": "[encoded data removed]",
      "text/plain": [
       "<matplotlib.figure.Figure at 0x7f6c3ea99908>"
      ]
     },
     "metadata": {},
     "output_type": "display_data"
    }
   ],
   "source": [
    "xtr2,ytr2 = gen_arti(data_type=1,epsilon=.5)\n",
    "xte2,yte2 = gen_arti(data_type=1,epsilon=.5)\n",
    "\n",
    "B_sample = B(xtr2, nb=1000, mode=2)\n",
    "gauss_sample = lambda x: gauss(x, B_sample)\n",
    "\n",
    "### Apprentissage\n",
    "model= Perceptron(eps=1e-3, max_iter=100, projection=gauss_sample)\n",
    "model.fit(xtr2,ytr2)\n",
    "print(\"score en train : \",model.score(xtr2,ytr2))\n",
    "print(\"score en test : \",model.score(xte2,yte2))\n",
    "#### Tracer de frontiere\n",
    "plt.figure()\n",
    "plt.title(\"Frontière de décision (Prolongement polynomial)\")\n",
    "plot_frontiere(xtr2,model.predict, 200)\n",
    "plot_data(xtr2,ytr2)"
   ]
  },
  {
   "cell_type": "markdown",
   "metadata": {},
   "source": [
    "C'est ce que ce graphe peut laisser présager : comme le modèle peut rendre compte de formes (trop) complexes, il est potentiellement menacé de surapprentissage.\n",
    "C'est pourquoi on va changer légèrement la fonction objectif à optimiser afin d'ajouter un terme de **régularisation**.\n",
    "\n",
    "En ajoutant un terme quadratique de régularisation à la fonction objectif, celle-ci devient:\n",
    "\n",
    "$$ L(f_w(x), y) = hinge(w, y) + \\lambda ||w||^2$$\n",
    "\n",
    "Ainsi, **hormis la fonction à minimiser, et donc son gradient, il n'y a rien à changer dans la classe Perceptron**"
   ]
  },
  {
   "cell_type": "code",
   "execution_count": 34,
   "metadata": {
    "collapsed": true
   },
   "outputs": [],
   "source": [
    "class Perception_regularized(Perceptron):\n",
    "    def __init__(self,lmd=1, max_iter = 100,eps=1e-3, projection = None):\n",
    "        self.max_iter = max_iter\n",
    "        self.lmd = lmd\n",
    "        self.eps = eps\n",
    "        self.projection = projection or (lambda x: x) #projection fonction identite par default\n",
    "    \n",
    "    def loss(self,data,y):\n",
    "        return hinge(self.w,data,y) + self.lmd* np.linalg.norm(self.w)\n",
    "    \n",
    "    def loss_g(self,data,y):\n",
    "        return grad_hinge(self.w,data,y) + 2*self.lmd*self.w"
   ]
  },
  {
   "cell_type": "code",
   "execution_count": 40,
   "metadata": {},
   "outputs": [
    {
     "name": "stdout",
     "output_type": "stream",
     "text": [
      "Itérations de l'algorithme d'apprentissage ... \n",
      "\n",
      "0 [ 0.18609688]\n",
      "20 [ 0.17920049]\n",
      "40 [ 0.17243669]\n",
      "60 [ 0.16579316]\n",
      "80 [ 0.15923012]\n",
      "score en train :  0.390742734123\n",
      "score en test :  0.327032136106\n",
      "Itérations de l'algorithme d'apprentissage ... \n",
      "\n",
      "0 [ 0.43660882]\n",
      "20 [ 0.00089726]\n",
      "40 [ 0.00113456]\n",
      "60 [ 0.00101813]\n",
      "80 [ 0.00077596]\n",
      "score en train :  0.975780409042\n",
      "score en test :  0.948960302457\n"
     ]
    }
   ],
   "source": [
    "xtr2,ytr2 = x06train, y06train\n",
    "xte2,yte2 = x06test, y06test\n",
    "\n",
    "B_sample = B(xtr2, nb=1000, mode=2)\n",
    "gauss_sample = lambda x: gauss(x, B_sample)\n",
    "\n",
    "\n",
    "### Apprentissage sans régularisation\n",
    "model= Perceptron(eps=1e-3, max_iter=100, projection=gauss_sample)\n",
    "model.fit(xtr2,ytr2)\n",
    "print(\"score en train : \",model.score(xtr2,ytr2))\n",
    "print(\"score en test : \",model.score(xte2,yte2))\n",
    "\n",
    "\n",
    "### Apprentissage avec régularisation\n",
    "model= Perception_regularized(lmd=1, eps=1e-3, max_iter=100, projection=gauss_sample)\n",
    "model.fit(xtr2,ytr2)\n",
    "print(\"score en train : \",model.score(xtr2,ytr2))\n",
    "print(\"score en test : \",model.score(xte2,yte2))"
   ]
  },
  {
   "cell_type": "markdown",
   "metadata": {},
   "source": [
    "Sur données réelles, **le perceptron non régularisé fait bien du surapprentissage**, que notre régularisation permet clairement d'éviter, en passant de scores très mauvais à un très bon score de classification sur l'ensemble de test."
   ]
  },
  {
   "cell_type": "markdown",
   "metadata": {},
   "source": [
    "Dans notre modélisation, nous avons choisi d'adopter une norme $L^2$ pour le terme de régularisation, mais nous aurions très bien pu choisir un terme $L^1$, ce qui permet d'avoir d'avoir des termes nuls dans **w** et qui peut être utile lorsque notre nombre d'exemples n'est pas assez élevé vis-à-vis du nombre de features ... "
   ]
  }
 ],
 "metadata": {
  "kernelspec": {
   "display_name": "Python 3",
   "language": "python",
   "name": "python3"
  },
  "language_info": {
   "codemirror_mode": {
    "name": "ipython",
    "version": 3
   },
   "file_extension": ".py",
   "mimetype": "text/x-python",
   "name": "python",
   "nbconvert_exporter": "python",
   "pygments_lexer": "ipython3",
   "version": "3.6.1"
  }
 },
 "nbformat": 4,
 "nbformat_minor": 2
}
